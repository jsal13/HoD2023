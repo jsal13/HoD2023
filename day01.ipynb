{
 "cells": [
  {
   "cell_type": "markdown",
   "metadata": {},
   "source": [
    "**Note: This is my EDA.  It's not pretty or nice and probably has some mistakes along the way.  Check out the associated `.py` file for a linted/formatted version of the solution.**"
   ]
  },
  {
   "cell_type": "code",
   "execution_count": 7,
   "metadata": {},
   "outputs": [],
   "source": [
    "from functools import reduce\n",
    "\n",
    "import polars as pl\n",
    "\n",
    "from utils import get_data"
   ]
  },
  {
   "cell_type": "markdown",
   "metadata": {},
   "source": [
    "# The Investigator\n",
    "\n",
    "(JAMES: Emphasis below mine when I think something will be useful.)\n",
    "\n",
    "REF: https://hanukkah.bluebird.sh/5784/1/\n",
    "\n",
    "Sarah brought a cashier over. She said, “Joe here says that one of our customers is a skilled private investigator.”\n",
    "\n",
    "Joe nodded, “They showed me their business card, and that’s what it said. **Skilled Private Investigator**. And their **phone number was their last name spelled out**. I didn’t know what that meant, but apparently before there were smartphones, people had to remember phone numbers or write them down. If you wanted a phone number that was easy-to-remember, you could get a number that spelled something using the letters printed on the phone buttons: like 2 has “ABC”, and 3 “DEF”, etc. And I guess this person had done that, so if you dialed the numbers corresponding to the letters in their name, it would call their phone number!\n",
    "\n",
    "“I thought that was pretty cool. But I don’t remember their name, or anything else about them for that matter. I couldn’t even tell you if they were male or female.”\n",
    "\n",
    "Sarah said, “This person seems like they are skilled at investigation. I need them to find Noah’s rug before the Hanukkah dinner. I don’t know how to contact them, but apparently they shop here at Noah’s Market.”"
   ]
  },
  {
   "cell_type": "code",
   "execution_count": 8,
   "metadata": {},
   "outputs": [],
   "source": [
    "data = get_data()\n",
    "df_customers = data[\"customers\"]"
   ]
  },
  {
   "cell_type": "code",
   "execution_count": 9,
   "metadata": {},
   "outputs": [],
   "source": [
    "LETTER_TO_BUTTON_LIST = [\n",
    "    (\"ABC\", \"2\"),\n",
    "    (\"DEF\", \"3\"),\n",
    "    (\"GHI\", \"4\"),\n",
    "    (\"JKL\", \"5\"),\n",
    "    (\"MNO\", \"6\"),\n",
    "    (\"PQRS\", \"7\"),\n",
    "    (\"TUV\", \"8\"),\n",
    "    (\"WXYZ\", \"9\")  \n",
    "]\n",
    "LETTER_TO_BUTTON_MAP = reduce(\n",
    "    lambda x, y: x | y, \n",
    "    map(lambda x: {y: x[1] for y in x[0]}, LETTER_TO_BUTTON_LIST)\n",
    ")\n",
    "\n",
    "def last_name_to_phone_number(lastname: str) -> str:\n",
    "    \"\"\"Translate a name to a number of the form 'XXX-XXX-XXXX' via phone buttons.\"\"\"\n",
    "    if len(lastname) != 10:\n",
    "        return \"\"\n",
    "    lbm = \"\".join(LETTER_TO_BUTTON_MAP[letter] for letter in lastname.upper())\n",
    "    return f\"{lbm[:3]}-{lbm[3:6]}-{lbm[6:]}\""
   ]
  },
  {
   "cell_type": "code",
   "execution_count": 10,
   "metadata": {},
   "outputs": [
    {
     "data": {
      "text/plain": [
       "'826-636-2286'"
      ]
     },
     "execution_count": 10,
     "metadata": {},
     "output_type": "execute_result"
    }
   ],
   "source": [
    "(df_customers\n",
    "    .select(\n",
    "        [\n",
    "            pl.col(\"phone\"),\n",
    "            pl.col(\"name\").str.split(by=\" \").list.get(1).alias(\"last_name\"),\n",
    "        ])\n",
    "    # Filter out all rows where last name != 10.\n",
    "    .filter(pl.col(\"last_name\").str.len_chars() == 10)\n",
    "    # Create the last name number mapping.\n",
    "    .select(\n",
    "        [\n",
    "            pl.col(\"phone\"),\n",
    "            pl.col(\"last_name\")\n",
    "            .map_elements(lambda x: last_name_to_phone_number(lastname=x))\n",
    "            .alias(\"last_name_number\"),\n",
    "        ]\n",
    "        # Filter out names not equal to phone number.\n",
    "    )\n",
    "    .filter(pl.col(\"last_name_number\") == pl.col(\"phone\"))\n",
    "    .get_column(\"phone\")\n",
    "    .item()\n",
    ")"
   ]
  },
  {
   "cell_type": "code",
   "execution_count": null,
   "metadata": {},
   "outputs": [],
   "source": []
  },
  {
   "cell_type": "code",
   "execution_count": null,
   "metadata": {},
   "outputs": [],
   "source": []
  }
 ],
 "metadata": {
  "kernelspec": {
   "display_name": "base",
   "language": "python",
   "name": "python3"
  },
  "language_info": {
   "codemirror_mode": {
    "name": "ipython",
    "version": 3
   },
   "file_extension": ".py",
   "mimetype": "text/x-python",
   "name": "python",
   "nbconvert_exporter": "python",
   "pygments_lexer": "ipython3",
   "version": "3.10.12"
  }
 },
 "nbformat": 4,
 "nbformat_minor": 2
}
