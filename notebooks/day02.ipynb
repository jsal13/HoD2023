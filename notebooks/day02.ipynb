{
 "cells": [
  {
   "cell_type": "markdown",
   "metadata": {},
   "source": [
    "**Note: This is my EDA.  It's not pretty or nice and probably has some mistakes along the way.  Check out the associated `.py` file for a linted/formatted version of the solution.**"
   ]
  },
  {
   "cell_type": "code",
   "execution_count": 1,
   "metadata": {},
   "outputs": [],
   "source": [
    "from pathlib import Path\n",
    "import sys\n",
    "\n",
    "import polars as pl\n",
    "\n",
    "# Gross hack to get jupyter to find hod stuff.\n",
    "sys.path.append(str(Path(Path.cwd().parent)))\n",
    "from hod.utils import get_data"
   ]
  },
  {
   "cell_type": "markdown",
   "metadata": {},
   "source": [
    "# The Contractor\n",
    "\n",
    "(JAMES: Emphasis below mine when I think something will be useful.)\n",
    "\n",
    "REF: https://hanukkah.bluebird.sh/5784/2/\n",
    "\n",
    "Thanks to your help, Sarah called the investigator that afternoon. The investigator went directly to the cleaners to see if they could get any more information about the unclaimed rug.\n",
    "\n",
    "While they were out, Sarah said, “I tried cleaning the rug myself, but there was this snail on it that always seemed to leave a trail of slime behind it. I spent a few hours cleaning it, and the next day the slime trail was back.”\n",
    "\n",
    "When the investigator returned, they said, “Apparently, this cleaner had a special projects program, where they outsourced challenging cleaning projects to industrious contractors. As they’re right across the street from Noah’s, they usually talked about the project over **coffee and bagels** at Noah’s before handing off the item to be cleaned. The contractors would pick up the tab and expense it, along with their cleaning supplies.\n",
    "\n",
    "“So this rug was apparently one of those special projects. **The claim ticket said ‘2017 JP’. ‘2017’ is the year the item was brought in, and ‘JP’ is the initials of the contractor.**\n",
    "\n",
    "“But they stopped outsourcing a few years ago, and don’t have contact information for any of these workers anymore.”\n",
    "\n",
    "Sarah first seemed hopeless, and then glanced at the USB drive you had just put back in her hand. She said, “I know it’s a long shot, but is there any chance you could find their phone number?”"
   ]
  },
  {
   "cell_type": "code",
   "execution_count": 30,
   "metadata": {},
   "outputs": [],
   "source": [
    "data = get_data(data_path=Path('./../data/5784/'))\n",
    "df_customers = data[\"customers\"]\n",
    "df_orders = data[\"orders\"]\n",
    "df_orders_items = data[\"orders_items\"]\n",
    "df_products = data[\"products\"]"
   ]
  },
  {
   "cell_type": "code",
   "execution_count": 24,
   "metadata": {},
   "outputs": [],
   "source": [
    "def get_initials(name: str) -> str:\n",
    "    return \"\".join(s[0].upper() for s in name.split(\" \"))"
   ]
  },
  {
   "cell_type": "code",
   "execution_count": 45,
   "metadata": {},
   "outputs": [
    {
     "data": {
      "text/plain": [
       "'332-274-4185'"
      ]
     },
     "execution_count": 45,
     "metadata": {},
     "output_type": "execute_result"
    }
   ],
   "source": [
    "df_customer_initials = (\n",
    "    df_customers\n",
    "    .select(\n",
    "        pl.col(\"customerid\"),\n",
    "        pl.col(\"phone\"),\n",
    "        pl.col(\"name\").map_elements(lambda s: get_initials(name=s)).alias(\"initials\")\n",
    "    )\n",
    "    .filter(\n",
    "        pl.col(\"initials\") == \"JP\"\n",
    "    )\n",
    ")\n",
    "\n",
    "df_orders_2017 = df_orders.select(pl.col(\"customerid\"), pl.col(\"ordered\").dt.year().alias(\"year\"), pl.col(\"orderid\")).filter(pl.col(\"year\") == 2017)\n",
    "\n",
    "df_joined = (\n",
    "    df_customer_initials\n",
    "    .join(df_orders_2017, on=\"customerid\")\n",
    "    .join(df_orders_items.select(pl.col(\"orderid\"), pl.col(\"sku\")), on=\"orderid\")\n",
    "    .join(df_products.select(pl.col(\"sku\"), pl.col(\"desc\")).filter(pl.col(\"sku\").str.contains(\"DLI\")), on=\"sku\")\n",
    ")\n",
    "\n",
    "df_joined.filter(pl.col(\"desc\").str.contains(\"Coffee\")).get_column(\"phone\").item()"
   ]
  },
  {
   "cell_type": "code",
   "execution_count": null,
   "metadata": {},
   "outputs": [],
   "source": []
  }
 ],
 "metadata": {
  "kernelspec": {
   "display_name": "base",
   "language": "python",
   "name": "python3"
  },
  "language_info": {
   "codemirror_mode": {
    "name": "ipython",
    "version": 3
   },
   "file_extension": ".py",
   "mimetype": "text/x-python",
   "name": "python",
   "nbconvert_exporter": "python",
   "pygments_lexer": "ipython3",
   "version": "3.10.12"
  }
 },
 "nbformat": 4,
 "nbformat_minor": 2
}
