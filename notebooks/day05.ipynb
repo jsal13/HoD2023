{
 "cells": [
  {
   "cell_type": "markdown",
   "metadata": {},
   "source": [
    "**Note: This is my EDA.  It's not pretty or nice and probably has some mistakes along the way.  Check out the associated `.py` file for a linted/formatted version of the solution.**"
   ]
  },
  {
   "cell_type": "code",
   "execution_count": 1,
   "metadata": {},
   "outputs": [],
   "source": [
    "import datetime\n",
    "from pathlib import Path\n",
    "import sys\n",
    "import math\n",
    "\n",
    "import polars as pl\n",
    "\n",
    "# Gross hack to get jupyter to find hod stuff.\n",
    "sys.path.append(str(Path(Path.cwd().parent)))\n",
    "from hod.utils import get_data, get_male_names"
   ]
  },
  {
   "cell_type": "markdown",
   "metadata": {},
   "source": [
    "# The Cat Lady\n",
    "\n",
    "(JAMES: Emphasis below mine when I think something will be useful.)\n",
    "\n",
    "REF: https://hanukkah.bluebird.sh/5784/5/\n",
    "\n",
    "“Yes, I did have that tapestry for a little bit. I even cleaned a blotchy section that turned out to be a friendly koala.\n",
    "\n",
    "“But it was still really dirty, so when I was going through a Marie Kondo phase, I decided it wasn’t sparking joy anymore.\n",
    "\n",
    "“I listed it on Freecycle, and a woman in **Staten Island** came to pick it up. She was wearing a ‘Noah’s Market’ **sweatshirt, and it was just covered in cat hair**. When I suggested that a clowder of cats might ruin such a fine tapestry, she looked at me funny. She said “I only have **ten or eleven cats, and anyway they are getting quite old now**, so I doubt they’d care about some old rug.”\n",
    "\n",
    "“It took her 20 minutes to stuff the tapestry into some plastic bags she brought because it was raining. I spent the evening cleaning my apartment.”\n",
    "\n",
    "What’s the phone number of the woman from Freecycle?"
   ]
  },
  {
   "cell_type": "code",
   "execution_count": 33,
   "metadata": {},
   "outputs": [
    {
     "name": "stdout",
     "output_type": "stream",
     "text": [
      "631-507-6048\n"
     ]
    }
   ],
   "source": [
    "data = get_data(data_path=Path('./../data/5784/'))\n",
    "MALE_NAMES = get_male_names(data_path=Path('./../data/'))\n",
    "df_customers = data[\"customers\"]\n",
    "df_orders = data[\"orders\"]\n",
    "df_orders_items = data[\"orders_items\"]\n",
    "df_products = data[\"products\"]\n",
    "\n",
    "df_senior_cat_food = df_products.select(pl.col([\"sku\", \"desc\"])).filter(\n",
    "    (pl.col(\"sku\").str.starts_with(\"PET\"), \n",
    "     pl.col(\"desc\").str.contains(\"Senior\"),\n",
    "    pl.col(\"desc\").str.contains(\"Cat\"),\n",
    "    )\n",
    ")\n",
    "\n",
    "def not_male_name(s: str) -> bool:\n",
    "    return s.split(\" \")[0] not in MALE_NAMES\n",
    "\n",
    "df_female_names = df_customers.filter(\n",
    "    pl.col(\"name\").map_elements(lambda s: not_male_name(s))\n",
    ")\n",
    "df_female_staten_island = df_female_names.filter(\n",
    "    pl.col(\"citystatezip\").str.starts_with(\"Staten Island\")\n",
    ")\n",
    "\n",
    "df_female_staten_island_cat_food_orders = (\n",
    "    df_senior_cat_food.join(df_orders_items, on=\"sku\")\n",
    "    .join(df_orders, on=\"orderid\")\n",
    "    .join(df_female_staten_island, on=\"customerid\")\n",
    "    .select(\n",
    "        [\n",
    "            \"name\",\n",
    "            \"orderid\",\n",
    "            \"qty\",\n",
    "            \"customerid\",\n",
    "            \"ordered\",\n",
    "            \"birthdate\",\n",
    "            \"phone\",\n",
    "            \"sku\",\n",
    "            \"desc\",\n",
    "        ]\n",
    "    )\n",
    ")\n",
    "\n",
    "pl.Config.set_tbl_rows(n=1000)\n",
    "sol_customer_id = (\n",
    "    df_female_staten_island_cat_food_orders\n",
    "    .select([\"name\", \"phone\", \"customerid\"])\n",
    "    .join(df_orders, on=\"customerid\")\n",
    "    .join(df_orders_items, on=\"orderid\")\n",
    "    .join(df_products, on=\"sku\")\n",
    "    .select([\"customerid\", \"qty\"])\n",
    "    .group_by([\"customerid\"])\n",
    "    .agg(pl.col(\"qty\").sum())\n",
    "    .sort(by=\"qty\", descending=True)\n",
    "    .get_column(\"customerid\")\n",
    "    .item(0)\n",
    "    )\n",
    "\n",
    "print(df_customers.select([\"customerid\", \"name\", \"phone\"]).filter(pl.col(\"customerid\") == sol_customer_id).get_column(\"phone\").item())\n"
   ]
  },
  {
   "cell_type": "code",
   "execution_count": null,
   "metadata": {},
   "outputs": [],
   "source": []
  },
  {
   "cell_type": "code",
   "execution_count": null,
   "metadata": {},
   "outputs": [],
   "source": []
  },
  {
   "cell_type": "code",
   "execution_count": null,
   "metadata": {},
   "outputs": [],
   "source": []
  },
  {
   "cell_type": "code",
   "execution_count": null,
   "metadata": {},
   "outputs": [],
   "source": []
  },
  {
   "cell_type": "code",
   "execution_count": null,
   "metadata": {},
   "outputs": [],
   "source": []
  },
  {
   "cell_type": "code",
   "execution_count": null,
   "metadata": {},
   "outputs": [],
   "source": []
  }
 ],
 "metadata": {
  "kernelspec": {
   "display_name": "base",
   "language": "python",
   "name": "python3"
  },
  "language_info": {
   "codemirror_mode": {
    "name": "ipython",
    "version": 3
   },
   "file_extension": ".py",
   "mimetype": "text/x-python",
   "name": "python",
   "nbconvert_exporter": "python",
   "pygments_lexer": "ipython3",
   "version": "3.10.12"
  }
 },
 "nbformat": 4,
 "nbformat_minor": 2
}
