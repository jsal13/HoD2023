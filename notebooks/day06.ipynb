{
 "cells": [
  {
   "cell_type": "markdown",
   "metadata": {},
   "source": [
    "**Note: This is my EDA.  It's not pretty or nice and probably has some mistakes along the way.  Check out the associated `.py` file for a linted/formatted version of the solution.**"
   ]
  },
  {
   "cell_type": "code",
   "execution_count": 2,
   "metadata": {},
   "outputs": [],
   "source": [
    "import datetime\n",
    "from pathlib import Path\n",
    "import sys\n",
    "import math\n",
    "\n",
    "import polars as pl\n",
    "\n",
    "# Gross hack to get jupyter to find hod stuff.\n",
    "sys.path.append(str(Path(Path.cwd().parent)))\n",
    "from hod.utils import get_data, get_male_names"
   ]
  },
  {
   "cell_type": "markdown",
   "metadata": {},
   "source": [
    "# The Bargain Hunter\n",
    "\n",
    "(JAMES: Emphasis below mine when I think something will be useful.)\n",
    "\n",
    "REF: https://hanukkah.bluebird.sh/5784/6/\n",
    "\n",
    "“Why yes, I did have that rug for a little while in my living room! My cats can’t see a thing but they sure chased after the squirrel on it like it was dancing in front of their noses.\n",
    "\n",
    "“It was a nice rug and they were surely going to ruin it, so I gave it to my cousin, who was moving into a new place that had wood floors.\n",
    "\n",
    "“She refused to buy a new rug for herself–she said they were way too expensive. She’s always been very frugal, and she clips every coupon and shops every sale at Noah’s Market. In fact I like to tease her that Noah actually loses money whenever she comes in the store.\n",
    "\n",
    "“I think she’s been taking it too far lately though. Once the subway fare increased, she stopped coming to visit me. And she’s really slow to respond to my texts. I hope she remembers to invite me to the family reunion next year.”\n",
    "\n",
    "Can you find her cousin’s phone number?"
   ]
  },
  {
   "cell_type": "code",
   "execution_count": 3,
   "metadata": {},
   "outputs": [
    {
     "data": {
      "text/html": [
       "<div><style>\n",
       ".dataframe > thead > tr,\n",
       ".dataframe > tbody > tr {\n",
       "  text-align: right;\n",
       "  white-space: pre-wrap;\n",
       "}\n",
       "</style>\n",
       "<small>shape: (1, 4)</small><table border=\"1\" class=\"dataframe\"><thead><tr><th>customerid</th><th>name</th><th>citystatezip</th><th>phone</th></tr><tr><td>i64</td><td>str</td><td>str</td><td>str</td></tr></thead><tbody><tr><td>4167</td><td>&quot;Sherri Long&quot;</td><td>&quot;Bronx, NY 1047…</td><td>&quot;585-838-9161&quot;</td></tr></tbody></table></div>"
      ],
      "text/plain": [
       "shape: (1, 4)\n",
       "┌────────────┬─────────────┬─────────────────┬──────────────┐\n",
       "│ customerid ┆ name        ┆ citystatezip    ┆ phone        │\n",
       "│ ---        ┆ ---         ┆ ---             ┆ ---          │\n",
       "│ i64        ┆ str         ┆ str             ┆ str          │\n",
       "╞════════════╪═════════════╪═════════════════╪══════════════╡\n",
       "│ 4167       ┆ Sherri Long ┆ Bronx, NY 10473 ┆ 585-838-9161 │\n",
       "└────────────┴─────────────┴─────────────────┴──────────────┘"
      ]
     },
     "execution_count": 3,
     "metadata": {},
     "output_type": "execute_result"
    }
   ],
   "source": [
    "data = get_data(data_path=Path('./../data/5784/'))\n",
    "\n",
    "df_customers = data[\"customers\"]\n",
    "df_orders = data[\"orders\"]\n",
    "df_orders_items = data[\"orders_items\"]\n",
    "df_products = data[\"products\"]\n",
    "\n",
    "df_sale_items = df_orders_items.join(df_products, on=\"sku\").filter(pl.col(\"unit_price\") < pl.col(\"wholesale_cost\")).select([\"orderid\", \"qty\", \"unit_price\", \"wholesale_cost\"])\n",
    "\n",
    "df_sale_customers = (\n",
    "    df_sale_items\n",
    "    .join(df_orders, on=\"orderid\")\n",
    "    .join(df_customers, on=\"customerid\")\n",
    "    .drop([\"ordered\", \"shipped\", \"address\", \"birthdate\", \"timezone\", \"lat\", \"long\"])\n",
    ")\n",
    "\n",
    "df_grouped_sale_customers = (\n",
    "    df_sale_customers\n",
    "    .group_by([\"customerid\", \"name\", \"citystatezip\", \"phone\"])\n",
    "    .agg(\n",
    "        [\n",
    "            pl.col(\"unit_price\").sum().alias(\"total_unit_price\"),\n",
    "            pl.col(\"wholesale_cost\").sum().alias(\"total_wholesale_cost\") \n",
    "        ]\n",
    "    )\n",
    ")\n",
    "\n",
    "df_grouped_sale_customers_sorted = df_grouped_sale_customers.with_columns((pl.col(\"total_wholesale_cost\") - pl.col(\"total_unit_price\")).alias(\"store_lost_dollars\")).sort(\"store_lost_dollars\", descending=True)\n",
    "\n",
    "\n",
    "df_customers.filter(pl.col(\"customerid\").is_in(df_grouped_sale_customers_sorted.head(1).get_column(\"customerid\"))).drop([\"ordered\", \"shipped\", \"address\", \"birthdate\", \"timezone\", \"lat\", \"long\"])"
   ]
  },
  {
   "cell_type": "code",
   "execution_count": null,
   "metadata": {},
   "outputs": [],
   "source": []
  }
 ],
 "metadata": {
  "kernelspec": {
   "display_name": "base",
   "language": "python",
   "name": "python3"
  },
  "language_info": {
   "codemirror_mode": {
    "name": "ipython",
    "version": 3
   },
   "file_extension": ".py",
   "mimetype": "text/x-python",
   "name": "python",
   "nbconvert_exporter": "python",
   "pygments_lexer": "ipython3",
   "version": "3.10.12"
  }
 },
 "nbformat": 4,
 "nbformat_minor": 2
}
