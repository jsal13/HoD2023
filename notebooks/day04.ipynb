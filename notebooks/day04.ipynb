{
 "cells": [
  {
   "cell_type": "markdown",
   "metadata": {},
   "source": [
    "**Note: This is my EDA.  It's not pretty or nice and probably has some mistakes along the way.  Check out the associated `.py` file for a linted/formatted version of the solution.**"
   ]
  },
  {
   "cell_type": "code",
   "execution_count": 175,
   "metadata": {},
   "outputs": [],
   "source": [
    "import datetime\n",
    "from pathlib import Path\n",
    "import sys\n",
    "import math\n",
    "\n",
    "import polars as pl\n",
    "\n",
    "# Gross hack to get jupyter to find hod stuff.\n",
    "sys.path.append(str(Path(Path.cwd().parent)))\n",
    "from hod.utils import get_data"
   ]
  },
  {
   "cell_type": "markdown",
   "metadata": {},
   "source": [
    "# The Early Bird\n",
    "\n",
    "(JAMES: Emphasis below mine when I think something will be useful.)\n",
    "\n",
    "REF: https://hanukkah.bluebird.sh/5784/4/\n",
    "\n",
    "The investigator called the phone number you found and left a message, and a man soon called back:\n",
    "\n",
    "“Wow, that was years ago! It was quite an elegant tapestry.\n",
    "\n",
    "“It took a lot of patience, but I did manage to get the dirt out of one section, which uncovered a superb owl. I put it up on my wall, and sometimes at night I swear I could hear the owl hooting.\n",
    "\n",
    "“A few weeks later my bike chain broke on the way home, and I needed to get it fixed before work the next day. Thankfully, this woman I met on Tinder came over at 5am with her bike chain repair kit and some pastries from Noah’s. Apparently she liked to get up before dawn and claim the **first pastries that came out of the oven**.\n",
    "\n",
    "“I didn’t have any money or I would’ve paid her for her trouble. She really liked the tapestry, though, so I wound up giving it to her.\n",
    "\n",
    "“I don’t remember her name or anything else about her.”\n",
    "\n",
    "Can you find the bicycle fixer’s phone number?"
   ]
  },
  {
   "cell_type": "code",
   "execution_count": 36,
   "metadata": {},
   "outputs": [],
   "source": [
    "# > 2017\n"
   ]
  },
  {
   "cell_type": "code",
   "execution_count": 144,
   "metadata": {},
   "outputs": [],
   "source": [
    "data = get_data(data_path=Path('./../data/5784/'))\n",
    "df_customers = data[\"customers\"]\n",
    "df_orders = data[\"orders\"]\n",
    "df_orders_items = data[\"orders_items\"]\n",
    "df_products = data[\"products\"]\n",
    "\n",
    "df_pastries = (\n",
    "    df_products\n",
    "    .select(\n",
    "        pl.col([\"sku\", \"desc\"])\n",
    "    )\n",
    "    .filter((\n",
    "        pl.col(\"sku\").str.contains(\"BKY\"),\n",
    "        ~pl.col(\"desc\").str.contains(\"Bagel\")\n",
    "    ))\n",
    ")\n",
    "\n",
    "df_orders_containing_pastries = df_orders_items.join(df_pastries, on=\"sku\", how=\"inner\").select(pl.col(\"orderid\")).unique()\n",
    "\n",
    "df_pastry_order_data = df_orders.join(df_orders_containing_pastries, on=\"orderid\", how=\"inner\").select([pl.col([\"orderid\", \"customerid\", \"ordered\"])])\n",
    "\n",
    "df_early_morning_pastry_orderers = df_pastry_order_data.filter((\n",
    "    (pl.col(\"ordered\").dt.hour() >= 0) &\n",
    "    (pl.col(\"ordered\").dt.hour() < 7)\n",
    "))\n",
    "\n",
    "# Lucky guess!\n",
    "\n",
    "# customerid = df_early_morning_pastry_orderers.group_by(by=\"customerid\").agg(pl.col(\"orderid\").count()).sort(by=\"orderid\", descending=True).item(row=0, column=\"customerid\")\n",
    "\n",
    "# df_customers.filter(pl.col(\"customerid\") == customerid).item(row=0, column=\"phone\")"
   ]
  },
  {
   "cell_type": "code",
   "execution_count": 145,
   "metadata": {},
   "outputs": [],
   "source": [
    "MALE_NAMES = [\n",
    "    \"Adam\", \"Alvin\", \"Anthony\", \"Austin\", \"Bradley\", \"Brandon\", \"Brian\", \"Bryan\", \"Caleb\", \"Carl\", \"Charles\", \"Christopher\", \"Clifford\", \"Cody\" \"Cristian\", \"Daniel\", \"David\", \"George\", \"Glenn\", \"Gregory\", \"James\", \"Jared\", \"Jeremiah\", \"Jeremy\", \"John\", \"Jon\", \"Jonathan\", \"Jose\", \"Joshua\", \"Kevin\", \"Kurt\", \"Lawrence\", \"Marcus\", \"Mark\", \"Matthew\", \"Michael\", \"Mike\", \"Nick\", \"Norman\", \"Peter\", \"Richard\", \"Robert\", \"Ronald\", \"Ruben\", \"Samuel\", \"Scott\", \"Stanley\", \"Stephen\", \"Steve\", \"Timothy\", \"Todd\", \"Travis\", \"Walter\", \"Xavier\",\n",
    "]\n",
    "\n",
    "def not_male_name(s: str) -> bool:\n",
    "    for n in MALE_NAMES:\n",
    "        if n in s:\n",
    "            return False\n",
    "    return True\n",
    "\n",
    "\n",
    "df_suspects = (\n",
    "    df_early_morning_pastry_orderers\n",
    "    .join(df_customers, on=\"customerid\")\n",
    "    .select(pl.col([\"orderid\", \"customerid\", \"ordered\", \"name\"]))\n",
    "    # Filter out male names.\n",
    "    .filter((\n",
    "        pl.col(\"name\").map_elements(lambda s: not_male_name(s))\n",
    "    ))\n",
    ")\n",
    "\n",
    "multiple_order_suspects = df_suspects.group_by(pl.col(\"customerid\")).agg(pl.col(\"orderid\").count().name.suffix(\"_count\")).filter(pl.col(\"orderid_count\") > 1).sort(\"orderid_count\", descending=True).get_column(\"customerid\")\n",
    "\n",
    "df_multiple_order_suspects = df_suspects.filter(pl.col(\"customerid\").is_in(multiple_order_suspects))\n",
    "\n",
    "df_multiple_pastry_order_suspects = (df_multiple_order_suspects.join(df_orders_items, on=\"orderid\")\n",
    "     .join(df_products, on=\"sku\")\n",
    "     .select((pl.col(\"orderid\", \"customerid\", \"ordered\", \"name\", \"qty\", \"desc\", \"sku\")))\n",
    ").filter(pl.col(\"sku\").str.contains(\"BKY\")).sort(by=\"ordered\")\n"
   ]
  },
  {
   "cell_type": "code",
   "execution_count": 192,
   "metadata": {},
   "outputs": [
    {
     "data": {
      "text/html": [
       "<div><style>\n",
       ".dataframe > thead > tr,\n",
       ".dataframe > tbody > tr {\n",
       "  text-align: right;\n",
       "  white-space: pre-wrap;\n",
       "}\n",
       "</style>\n",
       "<small>shape: (2, 12)</small><table border=\"1\" class=\"dataframe\"><thead><tr><th>name</th><th>birthdate</th><th>phone</th><th>age</th><th>customerid</th><th>address</th><th>citystatezip</th><th>birthdate_right</th><th>phone_right</th><th>timezone</th><th>lat</th><th>long</th></tr><tr><td>str</td><td>date</td><td>str</td><td>i8</td><td>i64</td><td>str</td><td>str</td><td>date</td><td>str</td><td>str</td><td>f64</td><td>f64</td></tr></thead><tbody><tr><td>&quot;Renee Harmon&quot;</td><td>1999-01-14</td><td>&quot;607-231-3605&quot;</td><td>25</td><td>2749</td><td>&quot;7A Nassau Ave&quot;</td><td>&quot;Brooklyn, NY 1…</td><td>1999-01-14</td><td>&quot;607-231-3605&quot;</td><td>&quot;America/New_Yo…</td><td>40.72347</td><td>-73.95097</td></tr><tr><td>&quot;Melanie Owens&quot;</td><td>1988-04-16</td><td>&quot;315-977-3650&quot;</td><td>36</td><td>5999</td><td>&quot;170 W 48th St&quot;</td><td>&quot;Manhattan, NY …</td><td>1988-04-16</td><td>&quot;315-977-3650&quot;</td><td>&quot;America/New_Yo…</td><td>40.76246</td><td>-73.9876</td></tr></tbody></table></div>"
      ],
      "text/plain": [
       "shape: (2, 12)\n",
       "┌─────────┬────────────┬──────────────┬─────┬───┬─────────────┬─────────────┬──────────┬───────────┐\n",
       "│ name    ┆ birthdate  ┆ phone        ┆ age ┆ … ┆ phone_right ┆ timezone    ┆ lat      ┆ long      │\n",
       "│ ---     ┆ ---        ┆ ---          ┆ --- ┆   ┆ ---         ┆ ---         ┆ ---      ┆ ---       │\n",
       "│ str     ┆ date       ┆ str          ┆ i8  ┆   ┆ str         ┆ str         ┆ f64      ┆ f64       │\n",
       "╞═════════╪════════════╪══════════════╪═════╪═══╪═════════════╪═════════════╪══════════╪═══════════╡\n",
       "│ Renee   ┆ 1999-01-14 ┆ 607-231-3605 ┆ 25  ┆ … ┆ 607-231-360 ┆ America/New ┆ 40.72347 ┆ -73.95097 │\n",
       "│ Harmon  ┆            ┆              ┆     ┆   ┆ 5           ┆ _York       ┆          ┆           │\n",
       "│ Melanie ┆ 1988-04-16 ┆ 315-977-3650 ┆ 36  ┆ … ┆ 315-977-365 ┆ America/New ┆ 40.76246 ┆ -73.9876  │\n",
       "│ Owens   ┆            ┆              ┆     ┆   ┆ 0           ┆ _York       ┆          ┆           │\n",
       "└─────────┴────────────┴──────────────┴─────┴───┴─────────────┴─────────────┴──────────┴───────────┘"
      ]
     },
     "execution_count": 192,
     "metadata": {},
     "output_type": "execute_result"
    }
   ],
   "source": [
    "df_sus_shopping_list_more_than_one_cookie = (\n",
    "    df_multiple_pastry_order_suspects\n",
    "    .group_by([\"customerid\", \"orderid\", \"name\", \"ordered\"])\n",
    "    .agg([pl.col(\"desc\").alias(\"shopping_list\"), pl.col(\"qty\").sum().alias(\"total_qty\")])\n",
    "    .sort(\"customerid\", descending=True).filter(pl.col(\"total_qty\") > 1)\n",
    "    .select(\n",
    "    (pl.col([\"customerid\", \"ordered\", \"name\"]), pl.col(\"ordered\").dt.date().alias(\"date\")))\n",
    ")\n",
    "\n",
    "def get_age(d: datetime.date) -> float:\n",
    "    return (datetime.date.today() - d).total_seconds() / (60 * 60 * 24 * 365.25)\n",
    "\n",
    "df_suspects_for_real = (\n",
    "    df_sus_shopping_list_more_than_one_cookie.join(df_customers, on=\"customerid\").sort(\"date\")\n",
    "    .select((pl.col([\"name\", \"birthdate\", \"phone\"]), pl.col(\"birthdate\").map_elements(lambda d: get_age(d)).round(decimals=0).cast(pl.Int8).alias(\"age\")))\n",
    "    .unique()\n",
    "    .sort(\"birthdate\")\n",
    ")\n",
    "\n",
    "\n",
    "# REF: https://www.zippia.com/advice/tinder-statistics/\n",
    "(    df_suspects_for_real\n",
    "     # There's only a ~4% chance the person on Tinder is > 45.\n",
    "    .filter(pl.col(\"age\") <= 45)\n",
    "    # There's only a 13% chance the person on Tinder is 35 - 44.\n",
    "    # .filter(pl.col(\"age\") < 35)\n",
    ").join(df_customers, on=\"name\")\n",
    "\n"
   ]
  },
  {
   "cell_type": "code",
   "execution_count": 190,
   "metadata": {},
   "outputs": [
    {
     "data": {
      "text/html": [
       "<div><style>\n",
       ".dataframe > thead > tr,\n",
       ".dataframe > tbody > tr {\n",
       "  text-align: right;\n",
       "  white-space: pre-wrap;\n",
       "}\n",
       "</style>\n",
       "<small>shape: (1, 9)</small><table border=\"1\" class=\"dataframe\"><thead><tr><th>customerid</th><th>name</th><th>address</th><th>citystatezip</th><th>birthdate</th><th>phone</th><th>timezone</th><th>lat</th><th>long</th></tr><tr><td>i64</td><td>str</td><td>str</td><td>str</td><td>date</td><td>str</td><td>str</td><td>f64</td><td>f64</td></tr></thead><tbody><tr><td>2550</td><td>&quot;Robert Morton&quot;</td><td>&quot;145-51 107th A…</td><td>&quot;Jamaica, NY 11…</td><td>1999-07-08</td><td>&quot;917-288-9635&quot;</td><td>&quot;America/New_Yo…</td><td>40.68959</td><td>-73.80487</td></tr></tbody></table></div>"
      ],
      "text/plain": [
       "shape: (1, 9)\n",
       "┌────────────┬────────┬────────────┬────────────┬───┬───────────┬───────────┬──────────┬───────────┐\n",
       "│ customerid ┆ name   ┆ address    ┆ citystatez ┆ … ┆ phone     ┆ timezone  ┆ lat      ┆ long      │\n",
       "│ ---        ┆ ---    ┆ ---        ┆ ip         ┆   ┆ ---       ┆ ---       ┆ ---      ┆ ---       │\n",
       "│ i64        ┆ str    ┆ str        ┆ ---        ┆   ┆ str       ┆ str       ┆ f64      ┆ f64       │\n",
       "│            ┆        ┆            ┆ str        ┆   ┆           ┆           ┆          ┆           │\n",
       "╞════════════╪════════╪════════════╪════════════╪═══╪═══════════╪═══════════╪══════════╪═══════════╡\n",
       "│ 2550       ┆ Robert ┆ 145-51     ┆ Jamaica,   ┆ … ┆ 917-288-9 ┆ America/N ┆ 40.68959 ┆ -73.80487 │\n",
       "│            ┆ Morton ┆ 107th Ave  ┆ NY 11435   ┆   ┆ 635       ┆ ew_York   ┆          ┆           │\n",
       "└────────────┴────────┴────────────┴────────────┴───┴───────────┴───────────┴──────────┴───────────┘"
      ]
     },
     "execution_count": 190,
     "metadata": {},
     "output_type": "execute_result"
    }
   ],
   "source": [
    "df_customers.filter(pl.col(\"phone\") == \"917-288-9635\")"
   ]
  },
  {
   "cell_type": "code",
   "execution_count": null,
   "metadata": {},
   "outputs": [],
   "source": []
  },
  {
   "cell_type": "code",
   "execution_count": null,
   "metadata": {},
   "outputs": [],
   "source": []
  }
 ],
 "metadata": {
  "kernelspec": {
   "display_name": "base",
   "language": "python",
   "name": "python3"
  },
  "language_info": {
   "codemirror_mode": {
    "name": "ipython",
    "version": 3
   },
   "file_extension": ".py",
   "mimetype": "text/x-python",
   "name": "python",
   "nbconvert_exporter": "python",
   "pygments_lexer": "ipython3",
   "version": "3.10.12"
  }
 },
 "nbformat": 4,
 "nbformat_minor": 2
}
