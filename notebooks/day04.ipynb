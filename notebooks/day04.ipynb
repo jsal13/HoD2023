{
 "cells": [
  {
   "cell_type": "markdown",
   "metadata": {},
   "source": [
    "**Note: This is my EDA.  It's not pretty or nice and probably has some mistakes along the way.  Check out the associated `.py` file for a linted/formatted version of the solution.**"
   ]
  },
  {
   "cell_type": "code",
   "execution_count": 1,
   "metadata": {},
   "outputs": [],
   "source": [
    "from datetime import datetime\n",
    "from pathlib import Path\n",
    "import sys\n",
    "\n",
    "import polars as pl\n",
    "\n",
    "# Gross hack to get jupyter to find hod stuff.\n",
    "sys.path.append(str(Path(Path.cwd().parent)))\n",
    "from hod.utils import get_data"
   ]
  },
  {
   "cell_type": "markdown",
   "metadata": {},
   "source": [
    "# The Early Bird\n",
    "\n",
    "(JAMES: Emphasis below mine when I think something will be useful.)\n",
    "\n",
    "REF: https://hanukkah.bluebird.sh/5784/4/\n",
    "\n",
    "The investigator called the phone number you found and left a message, and a man soon called back:\n",
    "\n",
    "“Wow, that was years ago! It was quite an elegant tapestry.\n",
    "\n",
    "“It took a lot of patience, but I did manage to get the dirt out of one section, which uncovered a superb owl. I put it up on my wall, and sometimes at night I swear I could hear the owl hooting.\n",
    "\n",
    "“A few weeks later my bike chain broke on the way home, and I needed to get it fixed before work the next day. Thankfully, this woman I met on Tinder came over at 5am with her bike chain repair kit and some pastries from Noah’s. Apparently she liked to get up before dawn and claim the **first pastries that came out of the oven**.\n",
    "\n",
    "“I didn’t have any money or I would’ve paid her for her trouble. She really liked the tapestry, though, so I wound up giving it to her.\n",
    "\n",
    "“I don’t remember her name or anything else about her.”\n",
    "\n",
    "Can you find the bicycle fixer’s phone number?"
   ]
  },
  {
   "cell_type": "code",
   "execution_count": null,
   "metadata": {},
   "outputs": [],
   "source": [
    "# > 2017\n"
   ]
  },
  {
   "cell_type": "code",
   "execution_count": 25,
   "metadata": {},
   "outputs": [],
   "source": [
    "data = get_data(data_path=Path('./../data/5784/'))\n",
    "df_customers = data[\"customers\"]\n",
    "df_orders = data[\"orders\"]\n",
    "df_orders_items = data[\"orders_items\"]\n",
    "df_products = data[\"products\"]\n",
    "\n",
    "df_pastries = (\n",
    "    df_products\n",
    "    .select(\n",
    "        pl.col([\"sku\", \"desc\"])\n",
    "    )\n",
    "    .filter((\n",
    "        pl.col(\"sku\").str.contains(\"BKY\"),\n",
    "        ~pl.col(\"desc\").str.contains(\"Bagel\")\n",
    "    ))\n",
    ")\n",
    "\n",
    "df_orders_containing_pastries = df_orders_items.join(df_pastries, on=\"sku\", how=\"inner\").select(pl.col(\"orderid\")).unique()\n",
    "\n",
    "df_pastry_order_data = df_orders.join(df_orders_containing_pastries, on=\"orderid\", how=\"inner\").select([pl.col([\"orderid\", \"customerid\", \"ordered\"])])\n",
    "\n",
    "df_early_morning_pastry_orderers = df_pastry_order_data.filter((\n",
    "    (pl.col(\"ordered\").dt.hour() >= 0) &\n",
    "    (pl.col(\"ordered\").dt.hour() < 5)\n",
    "))\n",
    "\n",
    "customerid = df_early_morning_pastry_orderers.group_by(by=\"customerid\").agg(pl.col(\"orderid\").count()).sort(by=\"orderid\", descending=True).item(row=0, column=\"customerid\")\n",
    "\n",
    "df_customers.filter(pl.col(\"customerid\") == customerid).item(row=0, column=\"phone\")\n"
   ]
  },
  {
   "cell_type": "code",
   "execution_count": 44,
   "metadata": {},
   "outputs": [
    {
     "data": {
      "text/plain": [
       "'607-231-3605'"
      ]
     },
     "execution_count": 44,
     "metadata": {},
     "output_type": "execute_result"
    }
   ],
   "source": []
  },
  {
   "cell_type": "code",
   "execution_count": 31,
   "metadata": {},
   "outputs": [
    {
     "data": {
      "text/html": [
       "<div><style>\n",
       ".dataframe > thead > tr,\n",
       ".dataframe > tbody > tr {\n",
       "  text-align: right;\n",
       "  white-space: pre-wrap;\n",
       "}\n",
       "</style>\n",
       "<small>shape: (1, 9)</small><table border=\"1\" class=\"dataframe\"><thead><tr><th>customerid</th><th>name</th><th>address</th><th>citystatezip</th><th>birthdate</th><th>phone</th><th>timezone</th><th>lat</th><th>long</th></tr><tr><td>i64</td><td>str</td><td>str</td><td>str</td><td>date</td><td>str</td><td>str</td><td>f64</td><td>f64</td></tr></thead><tbody><tr><td>2749</td><td>&quot;Renee Harmon&quot;</td><td>&quot;7A Nassau Ave&quot;</td><td>&quot;Brooklyn, NY 1…</td><td>1999-01-14</td><td>&quot;607-231-3605&quot;</td><td>&quot;America/New_Yo…</td><td>40.72347</td><td>-73.95097</td></tr></tbody></table></div>"
      ],
      "text/plain": [
       "shape: (1, 9)\n",
       "┌────────────┬────────┬────────────┬────────────┬───┬───────────┬───────────┬──────────┬───────────┐\n",
       "│ customerid ┆ name   ┆ address    ┆ citystatez ┆ … ┆ phone     ┆ timezone  ┆ lat      ┆ long      │\n",
       "│ ---        ┆ ---    ┆ ---        ┆ ip         ┆   ┆ ---       ┆ ---       ┆ ---      ┆ ---       │\n",
       "│ i64        ┆ str    ┆ str        ┆ ---        ┆   ┆ str       ┆ str       ┆ f64      ┆ f64       │\n",
       "│            ┆        ┆            ┆ str        ┆   ┆           ┆           ┆          ┆           │\n",
       "╞════════════╪════════╪════════════╪════════════╪═══╪═══════════╪═══════════╪══════════╪═══════════╡\n",
       "│ 2749       ┆ Renee  ┆ 7A Nassau  ┆ Brooklyn,  ┆ … ┆ 607-231-3 ┆ America/N ┆ 40.72347 ┆ -73.95097 │\n",
       "│            ┆ Harmon ┆ Ave        ┆ NY 11222   ┆   ┆ 605       ┆ ew_York   ┆          ┆           │\n",
       "└────────────┴────────┴────────────┴────────────┴───┴───────────┴───────────┴──────────┴───────────┘"
      ]
     },
     "execution_count": 31,
     "metadata": {},
     "output_type": "execute_result"
    }
   ],
   "source": []
  },
  {
   "cell_type": "code",
   "execution_count": null,
   "metadata": {},
   "outputs": [],
   "source": []
  }
 ],
 "metadata": {
  "kernelspec": {
   "display_name": "base",
   "language": "python",
   "name": "python3"
  },
  "language_info": {
   "codemirror_mode": {
    "name": "ipython",
    "version": 3
   },
   "file_extension": ".py",
   "mimetype": "text/x-python",
   "name": "python",
   "nbconvert_exporter": "python",
   "pygments_lexer": "ipython3",
   "version": "3.10.12"
  }
 },
 "nbformat": 4,
 "nbformat_minor": 2
}
