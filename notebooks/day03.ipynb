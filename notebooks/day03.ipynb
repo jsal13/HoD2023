{
 "cells": [
  {
   "cell_type": "markdown",
   "metadata": {},
   "source": [
    "**Note: This is my EDA.  It's not pretty or nice and probably has some mistakes along the way.  Check out the associated `.py` file for a linted/formatted version of the solution.**"
   ]
  },
  {
   "cell_type": "code",
   "execution_count": 1,
   "metadata": {},
   "outputs": [],
   "source": [
    "from datetime import datetime\n",
    "from pathlib import Path\n",
    "import sys\n",
    "\n",
    "import polars as pl\n",
    "\n",
    "# Gross hack to get jupyter to find hod stuff.\n",
    "sys.path.append(str(Path(Path.cwd().parent)))\n",
    "from hod.utils import get_data"
   ]
  },
  {
   "cell_type": "markdown",
   "metadata": {},
   "source": [
    "# The Neighbor\n",
    "\n",
    "(JAMES: Emphasis below mine when I think something will be useful.)\n",
    "\n",
    "REF: https://hanukkah.bluebird.sh/5784/3/\n",
    "\n",
    "Sarah and the investigator were very impressed with your data skills, as you were able to figure out the phone number of the contractor. They called up the cleaning contractor straight away and asked about the rug.\n",
    "\n",
    "“Oh, yeah, I did some special projects for them a few years ago. I remember that rug unfortunately. I managed to clean one section, which revealed a giant spider that startled me whenever I tried to work on it.\n",
    "\n",
    "“I already had a fear of **spiders** before this, but this spider was so realistic that I had a hard time making any more progress. I kept expecting the cleaners would call for the rug, but they never did. I felt so bad about it, I couldn’t face them, and of course they never gave me another project.\n",
    "\n",
    "“At last I couldn’t deal with the rug taking up my whole bathtub, so I gave it to this guy **who lived in my neighborhood**. He said that he was naturally intuitive because he was a **Cancer born in the year of the Rabbit**, so maybe he was able to clean it.\n",
    "\n",
    "“I don’t remember his name. Last time I saw him, he was leaving the subway and carrying a bag from Noah’s. I swore I saw a **spider on his hat**.”\n",
    "\n",
    "Can you find the phone number of the person that the contractor gave the rug to?\n"
   ]
  },
  {
   "cell_type": "code",
   "execution_count": 2,
   "metadata": {},
   "outputs": [],
   "source": [
    "data = get_data(data_path=Path('./../data/5784/'))\n",
    "df_customers = data[\"customers\"]\n",
    "df_orders = data[\"orders\"]\n",
    "df_orders_items = data[\"orders_items\"]\n",
    "df_products = data[\"products\"]"
   ]
  },
  {
   "cell_type": "code",
   "execution_count": 30,
   "metadata": {},
   "outputs": [],
   "source": [
    "YEARS_OF_THE_RABBIT = [2035, 2023, 2011, 1999, 1987, 1975, 1963, 1951, 1939, 1927]\n",
    "CANCER_SIGN = {\"start\": {\"month\": 6, \"day\": 22}, \"end\": {\"month\": 7, \"day\": 22}}\n",
    "CONTRACTOR_NUMBER = \"332-274-4185\"\n",
    "CONTRACTOR_CITY = (\n",
    "    df_customers\n",
    "    .select(pl.col(\"citystatezip\", \"address\", \"phone\"))\n",
    "    .filter(pl.col(\"phone\") == CONTRACTOR_NUMBER)\n",
    ").get_column(\"citystatezip\").item()\n",
    "\n",
    "\n",
    "df_cancers_year_rabbit = (\n",
    "    df_customers\n",
    "    .select(\n",
    "        pl.col([\"customerid\", \"name\", \"address\", \"citystatezip\", \"phone\", \"birthdate\"]),       \n",
    "    )\n",
    "    .filter(\n",
    "        (pl.col(\"birthdate\").dt.year().is_in(YEARS_OF_THE_RABBIT)) & \n",
    "        (((pl.col(\"birthdate\").dt.month() == CANCER_SIGN[\"start\"][\"month\"]) & (pl.col(\"birthdate\").dt.day() >= CANCER_SIGN[\"start\"][\"day\"])) | ((pl.col(\"birthdate\").dt.month() == CANCER_SIGN[\"end\"][\"month\"]) & (pl.col(\"birthdate\").dt.day() <= CANCER_SIGN[\"end\"][\"day\"]))) &\n",
    "        (pl.col(\"citystatezip\") == CONTRACTOR_CITY)\n",
    "    )\n",
    ")\n",
    "\n",
    "print(\"Day 3:\", df_cancers_year_rabbit.select(\"phone\").item())"
   ]
  },
  {
   "cell_type": "code",
   "execution_count": null,
   "metadata": {},
   "outputs": [],
   "source": []
  }
 ],
 "metadata": {
  "kernelspec": {
   "display_name": "base",
   "language": "python",
   "name": "python3"
  },
  "language_info": {
   "codemirror_mode": {
    "name": "ipython",
    "version": 3
   },
   "file_extension": ".py",
   "mimetype": "text/x-python",
   "name": "python",
   "nbconvert_exporter": "python",
   "pygments_lexer": "ipython3",
   "version": "3.10.12"
  }
 },
 "nbformat": 4,
 "nbformat_minor": 2
}
