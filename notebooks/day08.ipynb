{
 "cells": [
  {
   "cell_type": "markdown",
   "metadata": {},
   "source": [
    "**Note: This is my EDA.  It's not pretty or nice and probably has some mistakes along the way.  Check out the associated `.py` file for a linted/formatted version of the solution.**"
   ]
  },
  {
   "cell_type": "code",
   "execution_count": 2,
   "metadata": {},
   "outputs": [
    {
     "data": {
      "text/plain": [
       "polars.config.Config"
      ]
     },
     "execution_count": 2,
     "metadata": {},
     "output_type": "execute_result"
    }
   ],
   "source": [
    "import datetime\n",
    "from pathlib import Path\n",
    "import sys\n",
    "import math\n",
    "\n",
    "import polars as pl\n",
    "\n",
    "# Gross hack to get jupyter to find hod stuff.\n",
    "sys.path.append(str(Path(Path.cwd().parent)))\n",
    "from hod.utils import get_data, get_male_names\n",
    "\n",
    "pl.Config.set_tbl_rows(n=100)"
   ]
  },
  {
   "cell_type": "markdown",
   "metadata": {},
   "source": [
    "# The Collector\n",
    "\n",
    "(JAMES: Emphasis below mine when I think something will be useful.)\n",
    "\n",
    "REF: https://hanukkah.bluebird.sh/5784/8/\n",
    "\n",
    "“Oh that damned woman! She moved in, clogged my bathtub, left her coupons all over the kitchen, and then just vanished one night without leaving so much as a note.\n",
    "\n",
    "Except she did leave behind that nasty carpet. I spent months cleaning one corner, only to discover a snake hiding in the branches! I knew then that she was never coming back, and I had to get it out of my sight.\n",
    "\n",
    "“Well, I don’t have any storage here, and it didn’t seem right to sell it, so I gave it to my sister. She wound up getting a newer and more expensive carpet, so she gave it to an acquaintance of hers who collects all sorts of junk. Apparently he owns an entire set of Noah’s collectibles! He probably still has the carpet, even.\n",
    "\n",
    "“My sister is away for the holidays, but I can have her call you in a few weeks.”\n",
    "\n",
    "The family dinner is tonight! Can you find the collector’s phone number in time?"
   ]
  },
  {
   "cell_type": "code",
   "execution_count": 3,
   "metadata": {},
   "outputs": [],
   "source": [
    "data = get_data(data_path=Path('./../data/5784/'))\n",
    "\n",
    "df_customers = data[\"customers\"]\n",
    "df_orders = data[\"orders\"]\n",
    "df_orders_items = data[\"orders_items\"]\n",
    "df_products = data[\"products\"]"
   ]
  },
  {
   "cell_type": "code",
   "execution_count": 39,
   "metadata": {},
   "outputs": [
    {
     "name": "stdout",
     "output_type": "stream",
     "text": [
      "shape: (8, 3)\n",
      "┌───────────────┬──────────────────────────────────┬───────────────────────────────────┐\n",
      "│ item          ┆ color                            ┆ sku                               │\n",
      "│ ---           ┆ ---                              ┆ ---                               │\n",
      "│ str           ┆ list[str]                        ┆ list[str]                         │\n",
      "╞═══════════════╪══════════════════════════════════╪═══════════════════════════════════╡\n",
      "│ Ark Model     ┆ [\"HO Scale\"]                     ┆ [\"COL0041\"]                       │\n",
      "│ Action Figure ┆ [\"blue\", \"mauve\", … \"orange\"]    ┆ [\"COL0166\", \"COL0483\", … \"COL934… │\n",
      "│ Poster        ┆ [\"mauve\", \"red\", … \"magenta\"]    ┆ [\"COL0837\", \"COL2098\", … \"COL977… │\n",
      "│ Gift Box      ┆ [\"green\", \"amber\", … \"orange\"]   ┆ [\"COL2125\", \"COL2789\", … \"COL924… │\n",
      "│ Lunchbox      ┆ [\"amber\", \"puce\", … \"blue\"]      ┆ [\"COL1464\", \"COL1794\", … \"COL981… │\n",
      "│ Bobblehead    ┆ [\"blue\", \"orange\", … \"white\"]    ┆ [\"COL0167\", \"COL0891\", … \"COL902… │\n",
      "│ Jersey        ┆ [\"magenta\", \"green\", … \"orange\"] ┆ [\"COL2466\", \"COL2615\", … \"COL906… │\n",
      "│ Jewelry       ┆ [\"green\", \"mauve\", … \"magenta\"]  ┆ [\"COL0037\", \"COL0065\", … \"COL994… │\n",
      "└───────────────┴──────────────────────────────────┴───────────────────────────────────┘\n"
     ]
    }
   ],
   "source": [
    "df_collectables = (\n",
    "    df_products\n",
    "    .select([\"sku\", \"desc\"]).filter(pl.col(\"sku\").str.starts_with(\"COL\"))\n",
    "    .with_columns(\n",
    "        pl.col(\"desc\")\n",
    "        .str.replace(\"\\)\", \"\")\n",
    "        .str.replace(\"Noah's \", \"\")\n",
    "        .str.split_exact(\" (\", n=1)\n",
    "        .alias(\"split\"))\n",
    "    .unnest(\"split\")\n",
    "    .rename({\"field_0\": \"item\", \"field_1\": \"color\"})\n",
    "    .drop(\"desc\")\n",
    ")\n",
    "\n",
    "df_collectables_grouped = (\n",
    "    df_collectables\n",
    "    .group_by([\"item\"])\n",
    "    .agg(\"color\", \"sku\")\n",
    ")\n",
    "\n",
    "df_customers_with_collectables = (\n",
    "    df_collectables\n",
    "    .join(df_orders_items, on=\"sku\")\n",
    "    .join(df_orders, on=\"orderid\")\n",
    "    .join(df_customers, on=\"customerid\")\n",
    "    .select(['customerid', 'phone', 'name', 'sku', 'item', 'color', 'orderid'])\n",
    ")\n",
    "\n",
    "df_customers_with_collectables_slim = (\n",
    "    df_customers_with_collectables\n",
    "    .select(\"name\", \"item\", \"color\", \"phone\")\n",
    ")\n",
    "\n",
    "df_customers_with_collectables_slim.group_by([\"name\", \"phone\"]).agg(pl.col(\"color\").count()).sort(\"color\", descending=True)"
   ]
  },
  {
   "cell_type": "code",
   "execution_count": 55,
   "metadata": {},
   "outputs": [
    {
     "data": {
      "text/html": [
       "<div><style>\n",
       ".dataframe > thead > tr,\n",
       ".dataframe > tbody > tr {\n",
       "  text-align: right;\n",
       "  white-space: pre-wrap;\n",
       "}\n",
       "</style>\n",
       "<small>shape: (3_290, 3)</small><table border=\"1\" class=\"dataframe\"><thead><tr><th>name</th><th>phone</th><th>color</th></tr><tr><td>str</td><td>str</td><td>u32</td></tr></thead><tbody><tr><td>&quot;James Smith&quot;</td><td>&quot;212-547-3518&quot;</td><td>111</td></tr><tr><td>&quot;Tyler Johnson&quot;</td><td>&quot;838-701-6325&quot;</td><td>37</td></tr><tr><td>&quot;Angel White&quot;</td><td>&quot;838-806-1721&quot;</td><td>36</td></tr><tr><td>&quot;Elizabeth Reye…</td><td>&quot;516-993-9571&quot;</td><td>36</td></tr><tr><td>&quot;Hailey Fisher&quot;</td><td>&quot;838-838-1754&quot;</td><td>34</td></tr><tr><td>&quot;John Martinez&quot;</td><td>&quot;631-600-2937&quot;</td><td>34</td></tr><tr><td>&quot;Todd Simmons&quot;</td><td>&quot;516-374-2476&quot;</td><td>34</td></tr><tr><td>&quot;Karen Contrera…</td><td>&quot;838-578-7266&quot;</td><td>34</td></tr><tr><td>&quot;Brandon Castil…</td><td>&quot;914-618-0663&quot;</td><td>34</td></tr><tr><td>&quot;Nicole Berry&quot;</td><td>&quot;516-452-6246&quot;</td><td>34</td></tr><tr><td>&quot;Charles Wells&quot;</td><td>&quot;914-415-4374&quot;</td><td>33</td></tr><tr><td>&quot;Roberto Santia…</td><td>&quot;914-858-5775&quot;</td><td>33</td></tr><tr><td>&quot;Stephen Willia…</td><td>&quot;914-300-2614&quot;</td><td>32</td></tr><tr><td>&quot;Brooke Fernand…</td><td>&quot;516-841-9628&quot;</td><td>32</td></tr><tr><td>&quot;Jeremy Wilcox&quot;</td><td>&quot;716-878-7240&quot;</td><td>32</td></tr><tr><td>&quot;Matthew Richmo…</td><td>&quot;315-206-5237&quot;</td><td>31</td></tr><tr><td>&quot;James Castro&quot;</td><td>&quot;315-415-2185&quot;</td><td>31</td></tr><tr><td>&quot;Ronald Cervant…</td><td>&quot;585-523-0205&quot;</td><td>31</td></tr><tr><td>&quot;Christine Evan…</td><td>&quot;347-277-7770&quot;</td><td>31</td></tr><tr><td>&quot;Brian Christen…</td><td>&quot;315-300-6997&quot;</td><td>31</td></tr><tr><td>&quot;Nicole Drake&quot;</td><td>&quot;680-338-6592&quot;</td><td>31</td></tr><tr><td>&quot;Jessica Maldon…</td><td>&quot;845-516-3149&quot;</td><td>30</td></tr><tr><td>&quot;Charles Johnso…</td><td>&quot;631-704-1106&quot;</td><td>30</td></tr><tr><td>&quot;Jacqueline Alv…</td><td>&quot;315-377-5031&quot;</td><td>30</td></tr><tr><td>&quot;Vincent Garcia…</td><td>&quot;516-445-3890&quot;</td><td>30</td></tr><tr><td>&quot;Madison Hoffma…</td><td>&quot;914-658-1249&quot;</td><td>30</td></tr><tr><td>&quot;David Davis Jr…</td><td>&quot;347-377-3359&quot;</td><td>30</td></tr><tr><td>&quot;Crystal Bennet…</td><td>&quot;516-693-8522&quot;</td><td>29</td></tr><tr><td>&quot;Dana White&quot;</td><td>&quot;838-877-4591&quot;</td><td>29</td></tr><tr><td>&quot;Billy Richards…</td><td>&quot;516-910-0870&quot;</td><td>29</td></tr><tr><td>&quot;Timothy Kelley…</td><td>&quot;718-473-9626&quot;</td><td>29</td></tr><tr><td>&quot;Bryan Domingue…</td><td>&quot;332-388-5712&quot;</td><td>29</td></tr><tr><td>&quot;Michael Campbe…</td><td>&quot;516-278-1603&quot;</td><td>29</td></tr><tr><td>&quot;Richard Osborn…</td><td>&quot;585-821-1153&quot;</td><td>29</td></tr><tr><td>&quot;William Ward&quot;</td><td>&quot;516-455-7954&quot;</td><td>28</td></tr><tr><td>&quot;Lauren Pham&quot;</td><td>&quot;914-400-1168&quot;</td><td>28</td></tr><tr><td>&quot;Daniel Manning…</td><td>&quot;838-843-0180&quot;</td><td>28</td></tr><tr><td>&quot;Ryan Medina&quot;</td><td>&quot;914-391-1644&quot;</td><td>28</td></tr><tr><td>&quot;George Chen&quot;</td><td>&quot;516-870-0773&quot;</td><td>28</td></tr><tr><td>&quot;Kurt Walker&quot;</td><td>&quot;929-234-9513&quot;</td><td>28</td></tr><tr><td>&quot;Brandon Hughes…</td><td>&quot;516-322-6264&quot;</td><td>28</td></tr><tr><td>&quot;Kevin Stout&quot;</td><td>&quot;347-517-3134&quot;</td><td>28</td></tr><tr><td>&quot;Anna Lozano&quot;</td><td>&quot;716-715-7841&quot;</td><td>28</td></tr><tr><td>&quot;Alan Coffey&quot;</td><td>&quot;929-914-0795&quot;</td><td>28</td></tr><tr><td>&quot;Jared Ortega&quot;</td><td>&quot;516-934-9754&quot;</td><td>28</td></tr><tr><td>&quot;Carrie Hogan&quot;</td><td>&quot;585-611-6787&quot;</td><td>28</td></tr><tr><td>&quot;Jenna Hernande…</td><td>&quot;585-633-2184&quot;</td><td>28</td></tr><tr><td>&quot;Nicole Blancha…</td><td>&quot;516-939-0841&quot;</td><td>28</td></tr><tr><td>&quot;Anthony Chambe…</td><td>&quot;315-845-0040&quot;</td><td>28</td></tr><tr><td>&quot;James Eaton&quot;</td><td>&quot;838-958-4372&quot;</td><td>28</td></tr><tr><td>&hellip;</td><td>&hellip;</td><td>&hellip;</td></tr><tr><td>&quot;Kimberly Weber…</td><td>&quot;716-700-6862&quot;</td><td>1</td></tr><tr><td>&quot;Matthew King&quot;</td><td>&quot;470-571-3112&quot;</td><td>1</td></tr><tr><td>&quot;Chelsea Fergus…</td><td>&quot;716-633-6717&quot;</td><td>1</td></tr><tr><td>&quot;Cole Evans&quot;</td><td>&quot;516-458-5841&quot;</td><td>1</td></tr><tr><td>&quot;Matthew Dicker…</td><td>&quot;516-253-1857&quot;</td><td>1</td></tr><tr><td>&quot;Autumn Ramos&quot;</td><td>&quot;914-645-0200&quot;</td><td>1</td></tr><tr><td>&quot;April Ward&quot;</td><td>&quot;845-820-8504&quot;</td><td>1</td></tr><tr><td>&quot;Adam Nolan&quot;</td><td>&quot;218-993-7431&quot;</td><td>1</td></tr><tr><td>&quot;Courtney Jenni…</td><td>&quot;518-377-8158&quot;</td><td>1</td></tr><tr><td>&quot;Brittany Snyde…</td><td>&quot;917-928-1140&quot;</td><td>1</td></tr><tr><td>&quot;Megan Harris&quot;</td><td>&quot;838-657-8781&quot;</td><td>1</td></tr><tr><td>&quot;Matthew Stewar…</td><td>&quot;516-500-9502&quot;</td><td>1</td></tr><tr><td>&quot;Aaron Bray&quot;</td><td>&quot;680-892-6493&quot;</td><td>1</td></tr><tr><td>&quot;Steven Gonzale…</td><td>&quot;838-626-8784&quot;</td><td>1</td></tr><tr><td>&quot;Craig Liu&quot;</td><td>&quot;332-906-5043&quot;</td><td>1</td></tr><tr><td>&quot;Hailey Ebony O…</td><td>&quot;838-307-1734&quot;</td><td>1</td></tr><tr><td>&quot;Courtney Hanna…</td><td>&quot;315-979-2268&quot;</td><td>1</td></tr><tr><td>&quot;Olivia Brown&quot;</td><td>&quot;585-746-3010&quot;</td><td>1</td></tr><tr><td>&quot;Brian Santiago…</td><td>&quot;914-286-4997&quot;</td><td>1</td></tr><tr><td>&quot;Gary Robles&quot;</td><td>&quot;845-411-9716&quot;</td><td>1</td></tr><tr><td>&quot;Paul Hatfield …</td><td>&quot;315-646-2435&quot;</td><td>1</td></tr><tr><td>&quot;Nicole Wallace…</td><td>&quot;434-516-6020&quot;</td><td>1</td></tr><tr><td>&quot;Xavier Mcdonal…</td><td>&quot;585-297-9502&quot;</td><td>1</td></tr><tr><td>&quot;Charles Mccart…</td><td>&quot;585-816-2370&quot;</td><td>1</td></tr><tr><td>&quot;Andrew William…</td><td>&quot;315-686-5741&quot;</td><td>1</td></tr><tr><td>&quot;Maria Mccoy&quot;</td><td>&quot;516-623-5034&quot;</td><td>1</td></tr><tr><td>&quot;Daniel Glass&quot;</td><td>&quot;914-638-9152&quot;</td><td>1</td></tr><tr><td>&quot;Patricia Long&quot;</td><td>&quot;803-669-4704&quot;</td><td>1</td></tr><tr><td>&quot;Michael Willia…</td><td>&quot;516-848-6989&quot;</td><td>1</td></tr><tr><td>&quot;Christopher Bo…</td><td>&quot;838-531-9895&quot;</td><td>1</td></tr><tr><td>&quot;Brenda Reynold…</td><td>&quot;631-769-7100&quot;</td><td>1</td></tr><tr><td>&quot;Joshua Gomez I…</td><td>&quot;516-825-8405&quot;</td><td>1</td></tr><tr><td>&quot;Justin Ramos J…</td><td>&quot;631-511-1153&quot;</td><td>1</td></tr><tr><td>&quot;Amy Horton&quot;</td><td>&quot;516-708-9465&quot;</td><td>1</td></tr><tr><td>&quot;Erika Murphy&quot;</td><td>&quot;925-435-5346&quot;</td><td>1</td></tr><tr><td>&quot;David Williams…</td><td>&quot;631-870-6378&quot;</td><td>1</td></tr><tr><td>&quot;Jennifer Rodri…</td><td>&quot;516-239-5231&quot;</td><td>1</td></tr><tr><td>&quot;Candace Davis&quot;</td><td>&quot;934-688-8145&quot;</td><td>1</td></tr><tr><td>&quot;Daniel Gomez&quot;</td><td>&quot;718-870-3291&quot;</td><td>1</td></tr><tr><td>&quot;Kristopher Val…</td><td>&quot;315-872-5633&quot;</td><td>1</td></tr><tr><td>&quot;Amy Shields&quot;</td><td>&quot;631-227-8019&quot;</td><td>1</td></tr><tr><td>&quot;Gary Sanders&quot;</td><td>&quot;516-882-1844&quot;</td><td>1</td></tr><tr><td>&quot;David Rhodes&quot;</td><td>&quot;838-309-0853&quot;</td><td>1</td></tr><tr><td>&quot;Elizabeth Robi…</td><td>&quot;914-462-5381&quot;</td><td>1</td></tr><tr><td>&quot;Phyllis Brown&quot;</td><td>&quot;607-735-8390&quot;</td><td>1</td></tr><tr><td>&quot;Sharon Watkins…</td><td>&quot;212-275-0530&quot;</td><td>1</td></tr><tr><td>&quot;Mason Miller J…</td><td>&quot;212-548-4338&quot;</td><td>1</td></tr><tr><td>&quot;Cassandra Hall…</td><td>&quot;315-987-0300&quot;</td><td>1</td></tr><tr><td>&quot;Carl Owens&quot;</td><td>&quot;938-416-9932&quot;</td><td>1</td></tr><tr><td>&quot;Robert White&quot;</td><td>&quot;607-724-3609&quot;</td><td>1</td></tr></tbody></table></div>"
      ],
      "text/plain": [
       "shape: (3_290, 3)\n",
       "┌───────────────────────┬──────────────┬───────┐\n",
       "│ name                  ┆ phone        ┆ color │\n",
       "│ ---                   ┆ ---          ┆ ---   │\n",
       "│ str                   ┆ str          ┆ u32   │\n",
       "╞═══════════════════════╪══════════════╪═══════╡\n",
       "│ James Smith           ┆ 212-547-3518 ┆ 111   │\n",
       "│ Tyler Johnson         ┆ 838-701-6325 ┆ 37    │\n",
       "│ Angel White           ┆ 838-806-1721 ┆ 36    │\n",
       "│ Elizabeth Reyes       ┆ 516-993-9571 ┆ 36    │\n",
       "│ Hailey Fisher         ┆ 838-838-1754 ┆ 34    │\n",
       "│ John Martinez         ┆ 631-600-2937 ┆ 34    │\n",
       "│ Todd Simmons          ┆ 516-374-2476 ┆ 34    │\n",
       "│ Karen Contreras       ┆ 838-578-7266 ┆ 34    │\n",
       "│ Brandon Castillo      ┆ 914-618-0663 ┆ 34    │\n",
       "│ Nicole Berry          ┆ 516-452-6246 ┆ 34    │\n",
       "│ Charles Wells         ┆ 914-415-4374 ┆ 33    │\n",
       "│ Roberto Santiago      ┆ 914-858-5775 ┆ 33    │\n",
       "│ Stephen Williams Jr.  ┆ 914-300-2614 ┆ 32    │\n",
       "│ Brooke Fernandez      ┆ 516-841-9628 ┆ 32    │\n",
       "│ Jeremy Wilcox         ┆ 716-878-7240 ┆ 32    │\n",
       "│ Matthew Richmond      ┆ 315-206-5237 ┆ 31    │\n",
       "│ James Castro          ┆ 315-415-2185 ┆ 31    │\n",
       "│ Ronald Cervantes II   ┆ 585-523-0205 ┆ 31    │\n",
       "│ Christine Evans       ┆ 347-277-7770 ┆ 31    │\n",
       "│ Brian Christensen Jr. ┆ 315-300-6997 ┆ 31    │\n",
       "│ Nicole Drake          ┆ 680-338-6592 ┆ 31    │\n",
       "│ Jessica Maldonado     ┆ 845-516-3149 ┆ 30    │\n",
       "│ Charles Johnson       ┆ 631-704-1106 ┆ 30    │\n",
       "│ Jacqueline Alvarez    ┆ 315-377-5031 ┆ 30    │\n",
       "│ Vincent Garcia        ┆ 516-445-3890 ┆ 30    │\n",
       "│ Madison Hoffman       ┆ 914-658-1249 ┆ 30    │\n",
       "│ David Davis Jr.       ┆ 347-377-3359 ┆ 30    │\n",
       "│ Crystal Bennett       ┆ 516-693-8522 ┆ 29    │\n",
       "│ Dana White            ┆ 838-877-4591 ┆ 29    │\n",
       "│ Billy Richardson      ┆ 516-910-0870 ┆ 29    │\n",
       "│ Timothy Kelley Jr.    ┆ 718-473-9626 ┆ 29    │\n",
       "│ Bryan Dominguez       ┆ 332-388-5712 ┆ 29    │\n",
       "│ Michael Campbell      ┆ 516-278-1603 ┆ 29    │\n",
       "│ Richard Osborn        ┆ 585-821-1153 ┆ 29    │\n",
       "│ William Ward          ┆ 516-455-7954 ┆ 28    │\n",
       "│ Lauren Pham           ┆ 914-400-1168 ┆ 28    │\n",
       "│ Daniel Manning        ┆ 838-843-0180 ┆ 28    │\n",
       "│ Ryan Medina           ┆ 914-391-1644 ┆ 28    │\n",
       "│ George Chen           ┆ 516-870-0773 ┆ 28    │\n",
       "│ Kurt Walker           ┆ 929-234-9513 ┆ 28    │\n",
       "│ Brandon Hughes        ┆ 516-322-6264 ┆ 28    │\n",
       "│ Kevin Stout           ┆ 347-517-3134 ┆ 28    │\n",
       "│ Anna Lozano           ┆ 716-715-7841 ┆ 28    │\n",
       "│ Alan Coffey           ┆ 929-914-0795 ┆ 28    │\n",
       "│ Jared Ortega          ┆ 516-934-9754 ┆ 28    │\n",
       "│ Carrie Hogan          ┆ 585-611-6787 ┆ 28    │\n",
       "│ Jenna Hernandez       ┆ 585-633-2184 ┆ 28    │\n",
       "│ Nicole Blanchard      ┆ 516-939-0841 ┆ 28    │\n",
       "│ Anthony Chambers      ┆ 315-845-0040 ┆ 28    │\n",
       "│ James Eaton           ┆ 838-958-4372 ┆ 28    │\n",
       "│ …                     ┆ …            ┆ …     │\n",
       "│ Kimberly Weber        ┆ 716-700-6862 ┆ 1     │\n",
       "│ Matthew King          ┆ 470-571-3112 ┆ 1     │\n",
       "│ Chelsea Ferguson      ┆ 716-633-6717 ┆ 1     │\n",
       "│ Cole Evans            ┆ 516-458-5841 ┆ 1     │\n",
       "│ Matthew Dickerson Jr. ┆ 516-253-1857 ┆ 1     │\n",
       "│ Autumn Ramos          ┆ 914-645-0200 ┆ 1     │\n",
       "│ April Ward            ┆ 845-820-8504 ┆ 1     │\n",
       "│ Adam Nolan            ┆ 218-993-7431 ┆ 1     │\n",
       "│ Courtney Jennings     ┆ 518-377-8158 ┆ 1     │\n",
       "│ Brittany Snyder       ┆ 917-928-1140 ┆ 1     │\n",
       "│ Megan Harris          ┆ 838-657-8781 ┆ 1     │\n",
       "│ Matthew Stewart       ┆ 516-500-9502 ┆ 1     │\n",
       "│ Aaron Bray            ┆ 680-892-6493 ┆ 1     │\n",
       "│ Steven Gonzales       ┆ 838-626-8784 ┆ 1     │\n",
       "│ Craig Liu             ┆ 332-906-5043 ┆ 1     │\n",
       "│ Hailey Ebony Ortega   ┆ 838-307-1734 ┆ 1     │\n",
       "│ Courtney Hanna        ┆ 315-979-2268 ┆ 1     │\n",
       "│ Olivia Brown          ┆ 585-746-3010 ┆ 1     │\n",
       "│ Brian Santiago        ┆ 914-286-4997 ┆ 1     │\n",
       "│ Gary Robles           ┆ 845-411-9716 ┆ 1     │\n",
       "│ Paul Hatfield Jr.     ┆ 315-646-2435 ┆ 1     │\n",
       "│ Nicole Wallace        ┆ 434-516-6020 ┆ 1     │\n",
       "│ Xavier Mcdonald       ┆ 585-297-9502 ┆ 1     │\n",
       "│ Charles Mccarthy      ┆ 585-816-2370 ┆ 1     │\n",
       "│ Andrew Williamson     ┆ 315-686-5741 ┆ 1     │\n",
       "│ Maria Mccoy           ┆ 516-623-5034 ┆ 1     │\n",
       "│ Daniel Glass          ┆ 914-638-9152 ┆ 1     │\n",
       "│ Patricia Long         ┆ 803-669-4704 ┆ 1     │\n",
       "│ Michael Williams      ┆ 516-848-6989 ┆ 1     │\n",
       "│ Christopher Boone     ┆ 838-531-9895 ┆ 1     │\n",
       "│ Brenda Reynolds       ┆ 631-769-7100 ┆ 1     │\n",
       "│ Joshua Gomez III      ┆ 516-825-8405 ┆ 1     │\n",
       "│ Justin Ramos Jr.      ┆ 631-511-1153 ┆ 1     │\n",
       "│ Amy Horton            ┆ 516-708-9465 ┆ 1     │\n",
       "│ Erika Murphy          ┆ 925-435-5346 ┆ 1     │\n",
       "│ David Williams        ┆ 631-870-6378 ┆ 1     │\n",
       "│ Jennifer Rodriguez    ┆ 516-239-5231 ┆ 1     │\n",
       "│ Candace Davis         ┆ 934-688-8145 ┆ 1     │\n",
       "│ Daniel Gomez          ┆ 718-870-3291 ┆ 1     │\n",
       "│ Kristopher Valenzuela ┆ 315-872-5633 ┆ 1     │\n",
       "│ Amy Shields           ┆ 631-227-8019 ┆ 1     │\n",
       "│ Gary Sanders          ┆ 516-882-1844 ┆ 1     │\n",
       "│ David Rhodes          ┆ 838-309-0853 ┆ 1     │\n",
       "│ Elizabeth Robinson    ┆ 914-462-5381 ┆ 1     │\n",
       "│ Phyllis Brown         ┆ 607-735-8390 ┆ 1     │\n",
       "│ Sharon Watkins        ┆ 212-275-0530 ┆ 1     │\n",
       "│ Mason Miller Jr.      ┆ 212-548-4338 ┆ 1     │\n",
       "│ Cassandra Hall        ┆ 315-987-0300 ┆ 1     │\n",
       "│ Carl Owens            ┆ 938-416-9932 ┆ 1     │\n",
       "│ Robert White          ┆ 607-724-3609 ┆ 1     │\n",
       "└───────────────────────┴──────────────┴───────┘"
      ]
     },
     "execution_count": 55,
     "metadata": {},
     "output_type": "execute_result"
    }
   ],
   "source": []
  },
  {
   "cell_type": "code",
   "execution_count": null,
   "metadata": {},
   "outputs": [],
   "source": []
  }
 ],
 "metadata": {
  "kernelspec": {
   "display_name": "base",
   "language": "python",
   "name": "python3"
  },
  "language_info": {
   "codemirror_mode": {
    "name": "ipython",
    "version": 3
   },
   "file_extension": ".py",
   "mimetype": "text/x-python",
   "name": "python",
   "nbconvert_exporter": "python",
   "pygments_lexer": "ipython3",
   "version": "3.10.12"
  }
 },
 "nbformat": 4,
 "nbformat_minor": 2
}
