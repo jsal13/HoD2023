{
 "cells": [
  {
   "cell_type": "markdown",
   "metadata": {},
   "source": [
    "**Note: This is my EDA.  It's not pretty or nice and probably has some mistakes along the way.  Check out the associated `.py` file for a linted/formatted version of the solution.**"
   ]
  },
  {
   "cell_type": "code",
   "execution_count": 40,
   "metadata": {},
   "outputs": [
    {
     "data": {
      "text/plain": [
       "polars.config.Config"
      ]
     },
     "execution_count": 40,
     "metadata": {},
     "output_type": "execute_result"
    }
   ],
   "source": [
    "import datetime\n",
    "from pathlib import Path\n",
    "import sys\n",
    "import math\n",
    "\n",
    "import polars as pl\n",
    "\n",
    "# Gross hack to get jupyter to find hod stuff.\n",
    "sys.path.append(str(Path(Path.cwd().parent)))\n",
    "from hod.utils import get_data, get_male_names\n",
    "\n",
    "pl.Config.set_tbl_rows(n=100)"
   ]
  },
  {
   "cell_type": "markdown",
   "metadata": {},
   "source": [
    "# The Meet Cute\n",
    "\n",
    "(JAMES: Emphasis below mine when I think something will be useful.)\n",
    "\n",
    "REF: https://hanukkah.bluebird.sh/5784/7/\n",
    "\n",
    "\n",
    "“Oh that tapestry, with the colorful toucan on it! I’ll tell you what happened to it.\n",
    "\n",
    "“One day, I was at Noah’s Market, and I was just about to leave when someone behind me said ‘Miss! You dropped something!’\n",
    "\n",
    "“Well I turned around to see this cute guy holding an item I had bought. He said, ‘I got the same thing!’ We laughed about it and wound up swapping items because I wanted the color he got. We had a moment when our eyes met and my heart stopped for a second. I asked him to get some food with me and we spent the rest of the day together.\n",
    "\n",
    "“Before long I moved into his place, but the romance faded quickly, as he wasn’t the prince I imagined. I left abruptly one night, forgetting the tapestry on his wall. But by then, it symbolized our love, and I wanted nothing more to do with it. For all I know, he still has it.”\n",
    "\n",
    "Can you figure out her ex-boyfriend’s phone number?"
   ]
  },
  {
   "cell_type": "code",
   "execution_count": 9,
   "metadata": {},
   "outputs": [],
   "source": [
    "data = get_data(data_path=Path('./../data/5784/'))\n",
    "\n",
    "df_customers = data[\"customers\"]\n",
    "df_orders = data[\"orders\"]\n",
    "df_orders_items = data[\"orders_items\"]\n",
    "df_products = data[\"products\"]\n",
    "\n",
    "colors = [\"green\",\"mauve\",\"blue\",\"orange\",\"yellow\",\"purple\",\"amber\",\"puce\",\"magenta\",\"azure\",\"white\",\"red\"]\n",
    "color_str_regex = \"|\".join(colors)\n",
    "\n",
    "df_color_products = df_products.filter((\n",
    "    ~pl.col(\"sku\").str.starts_with(\"PET\"),\n",
    "    ~pl.col(\"sku\").str.starts_with(\"DLI\"),\n",
    "    (\n",
    "        pl.col(\"desc\").str.contains(color_str_regex)\n",
    "    )\n",
    "))\n",
    "\n",
    "df_orders_of_color_products = df_color_products.join(df_orders_items, on=\"sku\").join(df_orders, on=\"orderid\").drop([\"dims_cm\", \"wholesale_cost\", \"qty\", \"unit_price\", \"shipped\", \"items\", \"total\"]).with_columns(pl.col(\"ordered\").dt.date().alias(\"date\")).with_columns(pl.col(\"ordered\").dt.hour().alias(\"hour\")).with_columns(pl.col(\"desc\").str.extract(\"\\((.*?)\\)\").alias(\"color\"))\n",
    "\n",
    "df_suspects = df_orders_of_color_products.join(df_customers, on=\"customerid\").drop([\"address\", \"citystatezip\", \"birthdate\", \"phone\", \"timezone\", \"lat\", \"long\"])\n",
    "\n",
    "# Dates where Sherri Long.\n",
    "sus_dates = (\n",
    "    df_suspects\n",
    "    .group_by([\"date\"])\n",
    "    .agg([pl.col(\"name\"), \"color\"])\n",
    "    .filter(pl.col(\"name\").list.contains(\"Sherri Long\"))\n",
    "    .get_column(\"date\")\n",
    ")\n",
    "\n",
    "# Find someone closest to Sherri Long in time.\n",
    "df_suspects.filter(pl.col(\"date\").is_in(sus_dates)).select([\"customerid\", \"name\", \"desc\", \"ordered\", \"color\"]).sort(\"ordered\")\n",
    "\n",
    "df_customers.filter(pl.col(\"customerid\") == 5783)\n",
    "\n"
   ]
  },
  {
   "cell_type": "code",
   "execution_count": null,
   "metadata": {},
   "outputs": [],
   "source": []
  }
 ],
 "metadata": {
  "kernelspec": {
   "display_name": "base",
   "language": "python",
   "name": "python3"
  },
  "language_info": {
   "codemirror_mode": {
    "name": "ipython",
    "version": 3
   },
   "file_extension": ".py",
   "mimetype": "text/x-python",
   "name": "python",
   "nbconvert_exporter": "python",
   "pygments_lexer": "ipython3",
   "version": "3.10.12"
  }
 },
 "nbformat": 4,
 "nbformat_minor": 2
}
